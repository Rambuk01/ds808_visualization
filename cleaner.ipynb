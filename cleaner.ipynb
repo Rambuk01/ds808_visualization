{
 "cells": [
  {
   "cell_type": "code",
   "execution_count": 1,
   "metadata": {},
   "outputs": [],
   "source": [
    "import pandas as pd\n",
    "import utilities\n",
    "import re\n",
    "import matplotlib.pyplot as plt\n"
   ]
  },
  {
   "cell_type": "code",
   "execution_count": 8,
   "metadata": {},
   "outputs": [],
   "source": [
    "data = pd.read_csv('archive/listings.csv', sep=',', encoding='utf-8')"
   ]
  },
  {
   "cell_type": "code",
   "execution_count": 9,
   "metadata": {},
   "outputs": [],
   "source": [
    "# We select only the columns, that we wish to work with\n",
    "data = data[utilities.listing_columns]\n",
    "\n",
    "# We have to remove the $ from the price columns\n"
   ]
  },
  {
   "cell_type": "code",
   "execution_count": 6,
   "metadata": {},
   "outputs": [],
   "source": [
    "def clean_price(price: str):\n",
    "    price = price.replace('$', '').replace(',', '')\n",
    "    return float(price)\n",
    "\n",
    "#data['price'] = data['price'].apply(clean_price)"
   ]
  },
  {
   "cell_type": "code",
   "execution_count": 11,
   "metadata": {},
   "outputs": [],
   "source": [
    "# Apply the corrections to the 'neighbourhood_cleansed' column\n",
    "data['neighbourhood_cleansed'] = data['neighbourhood_cleansed'].replace(utilities.neighbourhood_corrections)"
   ]
  },
  {
   "cell_type": "code",
   "execution_count": 12,
   "metadata": {},
   "outputs": [
    {
     "data": {
      "text/plain": [
       "\"\\n[\\n'1 bath', '1.5 baths', '2 baths', '2.5 baths', 'Shared half-bath',\\n'Half-bath', '1 shared bath', '1 private bath', '3 baths', nan,\\n'0 baths', '1.5 shared baths', '2 shared baths', '3.5 baths',\\n'0 shared baths', '4 baths', 'Private half-bath', '4.5 baths',\\n'2.5 shared baths', '3 shared baths', '5 baths'\\n]\\n\""
      ]
     },
     "execution_count": 12,
     "metadata": {},
     "output_type": "execute_result"
    }
   ],
   "source": [
    "import re\n",
    "\n",
    "def fix_bath(bath_str):\n",
    "    if pd.isna(bath_str):  # Handle NaN values\n",
    "        return -1\n",
    "\n",
    "    bath_str = bath_str.lower()\n",
    "\n",
    "    # Handle special cases\n",
    "    if \"half-bath\" in bath_str:\n",
    "        return 0.5\n",
    "    elif \"shared half-bath\" in bath_str:\n",
    "        return 0.5\n",
    "    elif \"private half-bath\" in bath_str:\n",
    "        return 0.5\n",
    "    elif \"shared\" in bath_str:\n",
    "        # Extract the number of shared baths\n",
    "        pattern = r'\\b\\d+(\\.\\d+)?\\b'\n",
    "        match = re.search(pattern, bath_str)\n",
    "        if match:\n",
    "            return float(match.group())\n",
    "        else:\n",
    "            return 0  # If it says \"0 shared baths\" or similar\n",
    "    else:\n",
    "        # Extract the number of regular baths\n",
    "        pattern = r'\\b\\d+(\\.\\d+)?\\b'\n",
    "        match = re.search(pattern, bath_str)\n",
    "        if match:\n",
    "            return float(match.group())\n",
    "        \n",
    "    # If no match is found\n",
    "    return 0\n",
    "\n",
    "# Apply the function to create a new column\n",
    "data['bathrooms'] = data['bathrooms_text'].apply(fix_bath)\n",
    "\n",
    "\n",
    "\"\"\"\n",
    "[\n",
    "'1 bath', '1.5 baths', '2 baths', '2.5 baths', 'Shared half-bath',\n",
    "'Half-bath', '1 shared bath', '1 private bath', '3 baths', nan,\n",
    "'0 baths', '1.5 shared baths', '2 shared baths', '3.5 baths',\n",
    "'0 shared baths', '4 baths', 'Private half-bath', '4.5 baths',\n",
    "'2.5 shared baths', '3 shared baths', '5 baths'\n",
    "]\n",
    "\"\"\""
   ]
  },
  {
   "cell_type": "code",
   "execution_count": 13,
   "metadata": {},
   "outputs": [
    {
     "data": {
      "text/plain": [
       "array(['Nørrebro', 'Indre By', 'Vesterbro-Kongens Enghave', 'Østerbro',\n",
       "       'Frederiksberg', 'Amager Øst', 'Bispebjerg', 'Brønshøj-Husum',\n",
       "       'Amager Vest', 'Valby', 'Vanløse'], dtype=object)"
      ]
     },
     "execution_count": 13,
     "metadata": {},
     "output_type": "execute_result"
    }
   ],
   "source": [
    "data['neighbourhood_cleansed'].unique()"
   ]
  },
  {
   "cell_type": "code",
   "execution_count": 14,
   "metadata": {},
   "outputs": [],
   "source": [
    "data = data.drop(columns=['bathrooms_text'])"
   ]
  },
  {
   "cell_type": "code",
   "execution_count": 15,
   "metadata": {},
   "outputs": [],
   "source": [
    "data['beds'] = data['beds'].fillna(-1)"
   ]
  },
  {
   "cell_type": "code",
   "execution_count": 16,
   "metadata": {},
   "outputs": [],
   "source": [
    "data['beds'] = data['beds'].apply(lambda x: int(x))"
   ]
  },
  {
   "cell_type": "code",
   "execution_count": 27,
   "metadata": {},
   "outputs": [
    {
     "name": "stdout",
     "output_type": "stream",
     "text": [
      "                       id     neighbourhood_cleansed  latitude  longitude  \\\n",
      "0                    6983                   Nørrebro  55.68641   12.54741   \n",
      "1                   26057                   Indre By  55.69307   12.57649   \n",
      "2                   26473                   Indre By  55.67602   12.57540   \n",
      "3                   29118  Vesterbro-Kongens Enghave  55.67023   12.55504   \n",
      "4                  670820                   Indre By  55.69001   12.57315   \n",
      "...                   ...                        ...       ...        ...   \n",
      "12490            35292340             Brønshøj-Husum  55.72588   12.48023   \n",
      "12491  591033498117946366                      Valby  55.65762   12.47260   \n",
      "12492             9872599                 Bispebjerg  55.73184   12.52648   \n",
      "12493  595224605480025818             Brønshøj-Husum  55.73815   12.49684   \n",
      "12494             4806059                 Bispebjerg  55.73038   12.54425   \n",
      "\n",
      "             room_type  accommodates  bedrooms  beds   price  bathrooms  \n",
      "0      Entire home/apt             2       1.0     1   877.0        1.0  \n",
      "1      Entire home/apt             6       4.0     4  2400.0        1.5  \n",
      "2      Entire home/apt            11       5.0     5  3350.0        2.0  \n",
      "3      Entire home/apt             2       1.0     1   725.0        1.0  \n",
      "4      Entire home/apt             4       1.0     2  1116.0        1.0  \n",
      "...                ...           ...       ...   ...     ...        ...  \n",
      "12490  Entire home/apt             4       3.0     3   750.0        1.0  \n",
      "12491  Entire home/apt             4       2.0     2  1100.0        1.0  \n",
      "12492  Entire home/apt             7       5.0     5  1195.0        2.0  \n",
      "12493  Entire home/apt             4       2.0     4  1499.0        1.0  \n",
      "12494  Entire home/apt             8       4.0     8  1400.0        1.5  \n",
      "\n",
      "[12495 rows x 10 columns]\n"
     ]
    }
   ],
   "source": [
    "\n",
    "print(data)"
   ]
  },
  {
   "cell_type": "code",
   "execution_count": 28,
   "metadata": {},
   "outputs": [
    {
     "name": "stderr",
     "output_type": "stream",
     "text": [
      "/var/folders/8d/y0sytz_d0h7bqr1lr6ywrfhr0000gn/T/ipykernel_16631/2384198261.py:1: FutureWarning: Starting with pandas version 3.0 all arguments of to_csv except for the argument 'path_or_buf' will be keyword-only.\n",
      "  data.to_csv('archive/listings_cleaned.csv', ',', encoding='utf-8', index=False)\n"
     ]
    }
   ],
   "source": [
    "data.to_csv('archive/listings_cleaned.csv', ',', encoding='utf-8', index=False)"
   ]
  },
  {
   "cell_type": "code",
   "execution_count": 31,
   "metadata": {},
   "outputs": [
    {
     "data": {
      "text/html": [
       "<div>\n",
       "<style scoped>\n",
       "    .dataframe tbody tr th:only-of-type {\n",
       "        vertical-align: middle;\n",
       "    }\n",
       "\n",
       "    .dataframe tbody tr th {\n",
       "        vertical-align: top;\n",
       "    }\n",
       "\n",
       "    .dataframe thead th {\n",
       "        text-align: right;\n",
       "    }\n",
       "</style>\n",
       "<table border=\"1\" class=\"dataframe\">\n",
       "  <thead>\n",
       "    <tr style=\"text-align: right;\">\n",
       "      <th></th>\n",
       "      <th>id</th>\n",
       "      <th>neighbourhood_cleansed</th>\n",
       "      <th>latitude</th>\n",
       "      <th>longitude</th>\n",
       "      <th>room_type</th>\n",
       "      <th>accommodates</th>\n",
       "      <th>bedrooms</th>\n",
       "      <th>beds</th>\n",
       "      <th>price</th>\n",
       "      <th>bathrooms</th>\n",
       "    </tr>\n",
       "  </thead>\n",
       "  <tbody>\n",
       "    <tr>\n",
       "      <th>0</th>\n",
       "      <td>6983</td>\n",
       "      <td>Nørrebro</td>\n",
       "      <td>55.68641</td>\n",
       "      <td>12.54741</td>\n",
       "      <td>Entire home/apt</td>\n",
       "      <td>2</td>\n",
       "      <td>1.0</td>\n",
       "      <td>1</td>\n",
       "      <td>877.0</td>\n",
       "      <td>1.0</td>\n",
       "    </tr>\n",
       "    <tr>\n",
       "      <th>1</th>\n",
       "      <td>26057</td>\n",
       "      <td>Indre By</td>\n",
       "      <td>55.69307</td>\n",
       "      <td>12.57649</td>\n",
       "      <td>Entire home/apt</td>\n",
       "      <td>6</td>\n",
       "      <td>4.0</td>\n",
       "      <td>4</td>\n",
       "      <td>2400.0</td>\n",
       "      <td>1.5</td>\n",
       "    </tr>\n",
       "    <tr>\n",
       "      <th>2</th>\n",
       "      <td>26473</td>\n",
       "      <td>Indre By</td>\n",
       "      <td>55.67602</td>\n",
       "      <td>12.57540</td>\n",
       "      <td>Entire home/apt</td>\n",
       "      <td>11</td>\n",
       "      <td>5.0</td>\n",
       "      <td>5</td>\n",
       "      <td>3350.0</td>\n",
       "      <td>2.0</td>\n",
       "    </tr>\n",
       "    <tr>\n",
       "      <th>3</th>\n",
       "      <td>29118</td>\n",
       "      <td>Vesterbro-Kongens Enghave</td>\n",
       "      <td>55.67023</td>\n",
       "      <td>12.55504</td>\n",
       "      <td>Entire home/apt</td>\n",
       "      <td>2</td>\n",
       "      <td>1.0</td>\n",
       "      <td>1</td>\n",
       "      <td>725.0</td>\n",
       "      <td>1.0</td>\n",
       "    </tr>\n",
       "    <tr>\n",
       "      <th>4</th>\n",
       "      <td>670820</td>\n",
       "      <td>Indre By</td>\n",
       "      <td>55.69001</td>\n",
       "      <td>12.57315</td>\n",
       "      <td>Entire home/apt</td>\n",
       "      <td>4</td>\n",
       "      <td>1.0</td>\n",
       "      <td>2</td>\n",
       "      <td>1116.0</td>\n",
       "      <td>1.0</td>\n",
       "    </tr>\n",
       "    <tr>\n",
       "      <th>...</th>\n",
       "      <td>...</td>\n",
       "      <td>...</td>\n",
       "      <td>...</td>\n",
       "      <td>...</td>\n",
       "      <td>...</td>\n",
       "      <td>...</td>\n",
       "      <td>...</td>\n",
       "      <td>...</td>\n",
       "      <td>...</td>\n",
       "      <td>...</td>\n",
       "    </tr>\n",
       "    <tr>\n",
       "      <th>12490</th>\n",
       "      <td>35292340</td>\n",
       "      <td>Brønshøj-Husum</td>\n",
       "      <td>55.72588</td>\n",
       "      <td>12.48023</td>\n",
       "      <td>Entire home/apt</td>\n",
       "      <td>4</td>\n",
       "      <td>3.0</td>\n",
       "      <td>3</td>\n",
       "      <td>750.0</td>\n",
       "      <td>1.0</td>\n",
       "    </tr>\n",
       "    <tr>\n",
       "      <th>12491</th>\n",
       "      <td>591033498117946366</td>\n",
       "      <td>Valby</td>\n",
       "      <td>55.65762</td>\n",
       "      <td>12.47260</td>\n",
       "      <td>Entire home/apt</td>\n",
       "      <td>4</td>\n",
       "      <td>2.0</td>\n",
       "      <td>2</td>\n",
       "      <td>1100.0</td>\n",
       "      <td>1.0</td>\n",
       "    </tr>\n",
       "    <tr>\n",
       "      <th>12492</th>\n",
       "      <td>9872599</td>\n",
       "      <td>Bispebjerg</td>\n",
       "      <td>55.73184</td>\n",
       "      <td>12.52648</td>\n",
       "      <td>Entire home/apt</td>\n",
       "      <td>7</td>\n",
       "      <td>5.0</td>\n",
       "      <td>5</td>\n",
       "      <td>1195.0</td>\n",
       "      <td>2.0</td>\n",
       "    </tr>\n",
       "    <tr>\n",
       "      <th>12493</th>\n",
       "      <td>595224605480025818</td>\n",
       "      <td>Brønshøj-Husum</td>\n",
       "      <td>55.73815</td>\n",
       "      <td>12.49684</td>\n",
       "      <td>Entire home/apt</td>\n",
       "      <td>4</td>\n",
       "      <td>2.0</td>\n",
       "      <td>4</td>\n",
       "      <td>1499.0</td>\n",
       "      <td>1.0</td>\n",
       "    </tr>\n",
       "    <tr>\n",
       "      <th>12494</th>\n",
       "      <td>4806059</td>\n",
       "      <td>Bispebjerg</td>\n",
       "      <td>55.73038</td>\n",
       "      <td>12.54425</td>\n",
       "      <td>Entire home/apt</td>\n",
       "      <td>8</td>\n",
       "      <td>4.0</td>\n",
       "      <td>8</td>\n",
       "      <td>1400.0</td>\n",
       "      <td>1.5</td>\n",
       "    </tr>\n",
       "  </tbody>\n",
       "</table>\n",
       "<p>12495 rows × 10 columns</p>\n",
       "</div>"
      ],
      "text/plain": [
       "                       id     neighbourhood_cleansed  latitude  longitude  \\\n",
       "0                    6983                   Nørrebro  55.68641   12.54741   \n",
       "1                   26057                   Indre By  55.69307   12.57649   \n",
       "2                   26473                   Indre By  55.67602   12.57540   \n",
       "3                   29118  Vesterbro-Kongens Enghave  55.67023   12.55504   \n",
       "4                  670820                   Indre By  55.69001   12.57315   \n",
       "...                   ...                        ...       ...        ...   \n",
       "12490            35292340             Brønshøj-Husum  55.72588   12.48023   \n",
       "12491  591033498117946366                      Valby  55.65762   12.47260   \n",
       "12492             9872599                 Bispebjerg  55.73184   12.52648   \n",
       "12493  595224605480025818             Brønshøj-Husum  55.73815   12.49684   \n",
       "12494             4806059                 Bispebjerg  55.73038   12.54425   \n",
       "\n",
       "             room_type  accommodates  bedrooms  beds   price  bathrooms  \n",
       "0      Entire home/apt             2       1.0     1   877.0        1.0  \n",
       "1      Entire home/apt             6       4.0     4  2400.0        1.5  \n",
       "2      Entire home/apt            11       5.0     5  3350.0        2.0  \n",
       "3      Entire home/apt             2       1.0     1   725.0        1.0  \n",
       "4      Entire home/apt             4       1.0     2  1116.0        1.0  \n",
       "...                ...           ...       ...   ...     ...        ...  \n",
       "12490  Entire home/apt             4       3.0     3   750.0        1.0  \n",
       "12491  Entire home/apt             4       2.0     2  1100.0        1.0  \n",
       "12492  Entire home/apt             7       5.0     5  1195.0        2.0  \n",
       "12493  Entire home/apt             4       2.0     4  1499.0        1.0  \n",
       "12494  Entire home/apt             8       4.0     8  1400.0        1.5  \n",
       "\n",
       "[12495 rows x 10 columns]"
      ]
     },
     "execution_count": 31,
     "metadata": {},
     "output_type": "execute_result"
    }
   ],
   "source": [
    "nd = pd.read_csv('archive/listings_cleaned.csv', sep=',', encoding='utf-8')\n",
    "nd"
   ]
  },
  {
   "cell_type": "code",
   "execution_count": 41,
   "metadata": {},
   "outputs": [],
   "source": [
    "nd['bedrooms'] = nd['bedrooms'].fillna(-1)\n"
   ]
  },
  {
   "cell_type": "code",
   "execution_count": 44,
   "metadata": {},
   "outputs": [
    {
     "name": "stderr",
     "output_type": "stream",
     "text": [
      "/var/folders/8d/y0sytz_d0h7bqr1lr6ywrfhr0000gn/T/ipykernel_16631/2536884547.py:1: FutureWarning: Starting with pandas version 3.0 all arguments of to_csv except for the argument 'path_or_buf' will be keyword-only.\n",
      "  nd.to_csv('archive/listings_cleaned.csv', ',', encoding='utf-8', index=False)\n"
     ]
    }
   ],
   "source": [
    "nd.to_csv('archive/listings_cleaned.csv', ',', encoding='utf-8', index=False)"
   ]
  },
  {
   "cell_type": "code",
   "execution_count": 54,
   "metadata": {},
   "outputs": [
    {
     "data": {
      "text/plain": [
       "np.float64(1033.9752774974772)"
      ]
     },
     "execution_count": 54,
     "metadata": {},
     "output_type": "execute_result"
    }
   ],
   "source": [
    "nd[nd['neighbourhood_cleansed'] == 'Nørrebro']['price'].mean()"
   ]
  },
  {
   "cell_type": "code",
   "execution_count": null,
   "metadata": {},
   "outputs": [
    {
     "data": {
      "text/plain": [
       "'product_page_structure.png'"
      ]
     },
     "execution_count": 59,
     "metadata": {},
     "output_type": "execute_result"
    }
   ],
   "source": []
  },
  {
   "cell_type": "code",
   "execution_count": 61,
   "metadata": {},
   "outputs": [
    {
     "data": {
      "text/html": [
       "<div>\n",
       "<style scoped>\n",
       "    .dataframe tbody tr th:only-of-type {\n",
       "        vertical-align: middle;\n",
       "    }\n",
       "\n",
       "    .dataframe tbody tr th {\n",
       "        vertical-align: top;\n",
       "    }\n",
       "\n",
       "    .dataframe thead th {\n",
       "        text-align: right;\n",
       "    }\n",
       "</style>\n",
       "<table border=\"1\" class=\"dataframe\">\n",
       "  <thead>\n",
       "    <tr style=\"text-align: right;\">\n",
       "      <th></th>\n",
       "      <th>id</th>\n",
       "      <th>neighbourhood_cleansed</th>\n",
       "      <th>latitude</th>\n",
       "      <th>longitude</th>\n",
       "      <th>room_type</th>\n",
       "      <th>accommodates</th>\n",
       "      <th>bedrooms</th>\n",
       "      <th>beds</th>\n",
       "      <th>price</th>\n",
       "      <th>bathrooms</th>\n",
       "    </tr>\n",
       "  </thead>\n",
       "  <tbody>\n",
       "    <tr>\n",
       "      <th>0</th>\n",
       "      <td>6983</td>\n",
       "      <td>Nørrebro</td>\n",
       "      <td>55.68641</td>\n",
       "      <td>12.54741</td>\n",
       "      <td>Entire home/apt</td>\n",
       "      <td>2</td>\n",
       "      <td>1.0</td>\n",
       "      <td>1</td>\n",
       "      <td>877.0</td>\n",
       "      <td>1.0</td>\n",
       "    </tr>\n",
       "    <tr>\n",
       "      <th>1</th>\n",
       "      <td>26057</td>\n",
       "      <td>Indre By</td>\n",
       "      <td>55.69307</td>\n",
       "      <td>12.57649</td>\n",
       "      <td>Entire home/apt</td>\n",
       "      <td>6</td>\n",
       "      <td>4.0</td>\n",
       "      <td>4</td>\n",
       "      <td>2400.0</td>\n",
       "      <td>1.5</td>\n",
       "    </tr>\n",
       "    <tr>\n",
       "      <th>2</th>\n",
       "      <td>26473</td>\n",
       "      <td>Indre By</td>\n",
       "      <td>55.67602</td>\n",
       "      <td>12.57540</td>\n",
       "      <td>Entire home/apt</td>\n",
       "      <td>11</td>\n",
       "      <td>5.0</td>\n",
       "      <td>5</td>\n",
       "      <td>3350.0</td>\n",
       "      <td>2.0</td>\n",
       "    </tr>\n",
       "    <tr>\n",
       "      <th>3</th>\n",
       "      <td>29118</td>\n",
       "      <td>Vesterbro-Kongens Enghave</td>\n",
       "      <td>55.67023</td>\n",
       "      <td>12.55504</td>\n",
       "      <td>Entire home/apt</td>\n",
       "      <td>2</td>\n",
       "      <td>1.0</td>\n",
       "      <td>1</td>\n",
       "      <td>725.0</td>\n",
       "      <td>1.0</td>\n",
       "    </tr>\n",
       "    <tr>\n",
       "      <th>4</th>\n",
       "      <td>670820</td>\n",
       "      <td>Indre By</td>\n",
       "      <td>55.69001</td>\n",
       "      <td>12.57315</td>\n",
       "      <td>Entire home/apt</td>\n",
       "      <td>4</td>\n",
       "      <td>1.0</td>\n",
       "      <td>2</td>\n",
       "      <td>1116.0</td>\n",
       "      <td>1.0</td>\n",
       "    </tr>\n",
       "    <tr>\n",
       "      <th>...</th>\n",
       "      <td>...</td>\n",
       "      <td>...</td>\n",
       "      <td>...</td>\n",
       "      <td>...</td>\n",
       "      <td>...</td>\n",
       "      <td>...</td>\n",
       "      <td>...</td>\n",
       "      <td>...</td>\n",
       "      <td>...</td>\n",
       "      <td>...</td>\n",
       "    </tr>\n",
       "    <tr>\n",
       "      <th>12490</th>\n",
       "      <td>35292340</td>\n",
       "      <td>Brønshøj-Husum</td>\n",
       "      <td>55.72588</td>\n",
       "      <td>12.48023</td>\n",
       "      <td>Entire home/apt</td>\n",
       "      <td>4</td>\n",
       "      <td>3.0</td>\n",
       "      <td>3</td>\n",
       "      <td>750.0</td>\n",
       "      <td>1.0</td>\n",
       "    </tr>\n",
       "    <tr>\n",
       "      <th>12491</th>\n",
       "      <td>591033498117946366</td>\n",
       "      <td>Valby</td>\n",
       "      <td>55.65762</td>\n",
       "      <td>12.47260</td>\n",
       "      <td>Entire home/apt</td>\n",
       "      <td>4</td>\n",
       "      <td>2.0</td>\n",
       "      <td>2</td>\n",
       "      <td>1100.0</td>\n",
       "      <td>1.0</td>\n",
       "    </tr>\n",
       "    <tr>\n",
       "      <th>12492</th>\n",
       "      <td>9872599</td>\n",
       "      <td>Bispebjerg</td>\n",
       "      <td>55.73184</td>\n",
       "      <td>12.52648</td>\n",
       "      <td>Entire home/apt</td>\n",
       "      <td>7</td>\n",
       "      <td>5.0</td>\n",
       "      <td>5</td>\n",
       "      <td>1195.0</td>\n",
       "      <td>2.0</td>\n",
       "    </tr>\n",
       "    <tr>\n",
       "      <th>12493</th>\n",
       "      <td>595224605480025818</td>\n",
       "      <td>Brønshøj-Husum</td>\n",
       "      <td>55.73815</td>\n",
       "      <td>12.49684</td>\n",
       "      <td>Entire home/apt</td>\n",
       "      <td>4</td>\n",
       "      <td>2.0</td>\n",
       "      <td>4</td>\n",
       "      <td>1499.0</td>\n",
       "      <td>1.0</td>\n",
       "    </tr>\n",
       "    <tr>\n",
       "      <th>12494</th>\n",
       "      <td>4806059</td>\n",
       "      <td>Bispebjerg</td>\n",
       "      <td>55.73038</td>\n",
       "      <td>12.54425</td>\n",
       "      <td>Entire home/apt</td>\n",
       "      <td>8</td>\n",
       "      <td>4.0</td>\n",
       "      <td>8</td>\n",
       "      <td>1400.0</td>\n",
       "      <td>1.5</td>\n",
       "    </tr>\n",
       "  </tbody>\n",
       "</table>\n",
       "<p>12495 rows × 10 columns</p>\n",
       "</div>"
      ],
      "text/plain": [
       "                       id     neighbourhood_cleansed  latitude  longitude  \\\n",
       "0                    6983                   Nørrebro  55.68641   12.54741   \n",
       "1                   26057                   Indre By  55.69307   12.57649   \n",
       "2                   26473                   Indre By  55.67602   12.57540   \n",
       "3                   29118  Vesterbro-Kongens Enghave  55.67023   12.55504   \n",
       "4                  670820                   Indre By  55.69001   12.57315   \n",
       "...                   ...                        ...       ...        ...   \n",
       "12490            35292340             Brønshøj-Husum  55.72588   12.48023   \n",
       "12491  591033498117946366                      Valby  55.65762   12.47260   \n",
       "12492             9872599                 Bispebjerg  55.73184   12.52648   \n",
       "12493  595224605480025818             Brønshøj-Husum  55.73815   12.49684   \n",
       "12494             4806059                 Bispebjerg  55.73038   12.54425   \n",
       "\n",
       "             room_type  accommodates  bedrooms  beds   price  bathrooms  \n",
       "0      Entire home/apt             2       1.0     1   877.0        1.0  \n",
       "1      Entire home/apt             6       4.0     4  2400.0        1.5  \n",
       "2      Entire home/apt            11       5.0     5  3350.0        2.0  \n",
       "3      Entire home/apt             2       1.0     1   725.0        1.0  \n",
       "4      Entire home/apt             4       1.0     2  1116.0        1.0  \n",
       "...                ...           ...       ...   ...     ...        ...  \n",
       "12490  Entire home/apt             4       3.0     3   750.0        1.0  \n",
       "12491  Entire home/apt             4       2.0     2  1100.0        1.0  \n",
       "12492  Entire home/apt             7       5.0     5  1195.0        2.0  \n",
       "12493  Entire home/apt             4       2.0     4  1499.0        1.0  \n",
       "12494  Entire home/apt             8       4.0     8  1400.0        1.5  \n",
       "\n",
       "[12495 rows x 10 columns]"
      ]
     },
     "execution_count": 61,
     "metadata": {},
     "output_type": "execute_result"
    }
   ],
   "source": [
    "nd = pd.read_csv('archive/listings_cleaned.csv', sep=',', encoding='utf-8')\n",
    "nd"
   ]
  },
  {
   "cell_type": "code",
   "execution_count": 77,
   "metadata": {},
   "outputs": [],
   "source": [
    "# clean insane prices and too many bedrooms.\n",
    "nd = nd[nd['price'] < 20000]\n",
    "nd = nd[nd['bedrooms'] <= 6]\n",
    "\n"
   ]
  },
  {
   "cell_type": "code",
   "execution_count": 82,
   "metadata": {},
   "outputs": [
    {
     "name": "stderr",
     "output_type": "stream",
     "text": [
      "/var/folders/8d/y0sytz_d0h7bqr1lr6ywrfhr0000gn/T/ipykernel_16631/2536884547.py:1: FutureWarning: Starting with pandas version 3.0 all arguments of to_csv except for the argument 'path_or_buf' will be keyword-only.\n",
      "  nd.to_csv('archive/listings_cleaned.csv', ',', encoding='utf-8', index=False)\n"
     ]
    }
   ],
   "source": [
    "nd.to_csv('archive/listings_cleaned.csv', ',', encoding='utf-8', index=False)"
   ]
  },
  {
   "cell_type": "code",
   "execution_count": 9,
   "metadata": {},
   "outputs": [],
   "source": [
    "# Lets clean the calendar\n",
    "df = pd.read_csv('archive/calendar.csv', delimiter=',', encoding='utf-8')\n"
   ]
  },
  {
   "cell_type": "code",
   "execution_count": 10,
   "metadata": {},
   "outputs": [],
   "source": [
    "df = df.drop(columns=['available', 'adjusted_price', 'minimum_nights', 'maximum_nights'])"
   ]
  },
  {
   "cell_type": "code",
   "execution_count": 11,
   "metadata": {},
   "outputs": [],
   "source": [
    "\n",
    "df['price'] = df['price'].apply(clean_price)"
   ]
  },
  {
   "cell_type": "code",
   "execution_count": 17,
   "metadata": {},
   "outputs": [],
   "source": [
    "df.to_csv('archive/calendar_cleaned.csv', sep=',', encoding='utf-8', index=False)"
   ]
  },
  {
   "cell_type": "code",
   "execution_count": 22,
   "metadata": {},
   "outputs": [
    {
     "name": "stdout",
     "output_type": "stream",
     "text": [
      "         listing_id        date   price\n",
      "0              6983  2022-06-25   953.0\n",
      "1              6983  2022-06-26   847.0\n",
      "2              6983  2022-06-27   847.0\n",
      "3              6983  2022-06-28   847.0\n",
      "4              6983  2022-06-29   847.0\n",
      "...             ...         ...     ...\n",
      "4559946      441763  2023-06-20  1190.0\n",
      "4559947      441763  2023-06-21  1190.0\n",
      "4559948      441763  2023-06-22  1200.0\n",
      "4559949      441763  2023-06-23  1200.0\n",
      "4559950      441763  2023-06-24  1200.0\n",
      "\n",
      "[4559951 rows x 3 columns]\n"
     ]
    }
   ],
   "source": [
    "import pandas as pd\n",
    "ndf = pd.read_csv('archive/calendar_cleaned.csv', sep=',', encoding='utf-8', )\n",
    "#ndf['price'].apply(lambda x: x - (x%5))\n",
    "print(ndf)"
   ]
  },
  {
   "cell_type": "code",
   "execution_count": 25,
   "metadata": {},
   "outputs": [],
   "source": [
    "ndf['date'] = pd.to_datetime(ndf['date'])"
   ]
  },
  {
   "cell_type": "code",
   "execution_count": 32,
   "metadata": {},
   "outputs": [
    {
     "data": {
      "text/plain": [
       "np.float64(1231.8024777746505)"
      ]
     },
     "execution_count": 32,
     "metadata": {},
     "output_type": "execute_result"
    }
   ],
   "source": [
    "# Extract the year and month from the date column\n",
    "ndf['year'] = ndf['date'].dt.year\n",
    "ndf['month'] = ndf['date'].dt.month\n",
    "\n",
    "# Group by listing_id, year, and month, then calculate the average price for each group\n",
    "monthly_avg = ndf.groupby(['listing_id', 'year', 'month'])['price'].mean().reset_index()\n",
    "\n",
    "# Pivot the table to have a column for each month with the average price\n",
    "monthly_avg_pivot = monthly_avg.pivot_table(\n",
    "    index='listing_id', \n",
    "    columns='month', \n",
    "    values='price'\n",
    ")\n",
    "\n",
    "# Rename columns to indicate the month\n",
    "monthly_avg_pivot.columns = [f'avg_price_month_{month}' for month in monthly_avg_pivot.columns]\n",
    "\n",
    "# Reset index to convert listing_id back into a column\n",
    "monthly_avg_pivot = monthly_avg_pivot.reset_index()\n",
    "\n",
    "# Display the final DataFrame\n",
    "monthly_avg_pivot['avg_price_month_12'].mean()"
   ]
  },
  {
   "cell_type": "code",
   "execution_count": null,
   "metadata": {},
   "outputs": [
    {
     "name": "stdout",
     "output_type": "stream",
     "text": [
      "1204.5003343808014\n",
      "1208.4240203085155\n"
     ]
    }
   ],
   "source": []
  }
 ],
 "metadata": {
  "kernelspec": {
   "display_name": "venv",
   "language": "python",
   "name": "python3"
  },
  "language_info": {
   "codemirror_mode": {
    "name": "ipython",
    "version": 3
   },
   "file_extension": ".py",
   "mimetype": "text/x-python",
   "name": "python",
   "nbconvert_exporter": "python",
   "pygments_lexer": "ipython3",
   "version": "3.11.5"
  }
 },
 "nbformat": 4,
 "nbformat_minor": 2
}
